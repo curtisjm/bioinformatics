{
 "cells": [
  {
   "cell_type": "code",
   "execution_count": 34,
   "metadata": {},
   "outputs": [],
   "source": [
    "import pandas as pd\n",
    "import numpy as np"
   ]
  },
  {
   "cell_type": "code",
   "execution_count": 35,
   "metadata": {},
   "outputs": [],
   "source": [
    "BED_FILE = \"~/Documents/bioinformatics/data-simulation/real-data/curtis_testing.bed\"\n",
    "col_labels = [\"chr\", \"start\", \"end\", \"uc\", \"mc\", \"prop\"]\n",
    "bed_data = pd.read_csv(BED_FILE, sep='\\t', names=col_labels, header=None)"
   ]
  },
  {
   "cell_type": "code",
   "execution_count": 36,
   "metadata": {},
   "outputs": [
    {
     "name": "stdout",
     "output_type": "stream",
     "text": [
      "[ 5.26315789 87.5        84.61538462 86.95652174  7.69230769]\n"
     ]
    }
   ],
   "source": [
    "arr = bed_data[\"prop\"].iloc[50:55].to_numpy()\n",
    "print(arr)"
   ]
  },
  {
   "cell_type": "code",
   "execution_count": 37,
   "metadata": {},
   "outputs": [
    {
     "name": "stdout",
     "output_type": "stream",
     "text": [
      "[[ 5.26315789  0.          0.          0.          0.        ]\n",
      " [ 0.         87.5         0.          0.          0.        ]\n",
      " [ 0.          0.         84.61538462  0.          0.        ]\n",
      " [ 0.          0.          0.         86.95652174  0.        ]\n",
      " [ 0.          0.          0.          0.          7.69230769]]\n"
     ]
    }
   ],
   "source": [
    "d = np.diag(arr)\n",
    "print(d)"
   ]
  },
  {
   "cell_type": "code",
   "execution_count": 38,
   "metadata": {},
   "outputs": [
    {
     "name": "stdout",
     "output_type": "stream",
     "text": [
      "[ 1.05263158 17.5        16.92307692 17.39130435  1.53846154]\n"
     ]
    }
   ],
   "source": [
    "arr = arr / 5\n",
    "print(arr)"
   ]
  },
  {
   "cell_type": "code",
   "execution_count": 40,
   "metadata": {},
   "outputs": [
    {
     "name": "stdout",
     "output_type": "stream",
     "text": [
      "[[ 5.26315789  0.          0.          0.          0.        ]\n",
      " [ 0.         87.5         0.          0.          0.        ]\n",
      " [ 0.          0.         84.61538462  0.          0.        ]\n",
      " [ 0.          0.          0.         86.95652174  0.        ]\n",
      " [ 0.          0.          0.          0.          7.69230769]\n",
      " [ 1.05263158 17.5        16.92307692 17.39130435  1.53846154]]\n"
     ]
    }
   ],
   "source": [
    "A = np.vstack((d, arr))\n",
    "print(A)"
   ]
  },
  {
   "cell_type": "code",
   "execution_count": 11,
   "metadata": {},
   "outputs": [
    {
     "name": "stdout",
     "output_type": "stream",
     "text": [
      "   A  B  C\n",
      "0  1  2  3\n",
      "1  4  5  6\n",
      "5\n"
     ]
    }
   ],
   "source": [
    "import pandas as pd\n",
    "cols = [\"A\", \"B\", \"C\"]\n",
    "df1 = pd.DataFrame([[1, 2, 3]], columns=cols)\n",
    "df3 = pd.concat([df1, pd.DataFrame([[4, 5, 6]], columns=cols)], ignore_index=True)\n",
    "print(df3)\n",
    "print(df3.at[1, \"B\"])"
   ]
  },
  {
   "cell_type": "code",
   "execution_count": 17,
   "metadata": {},
   "outputs": [
    {
     "name": "stdout",
     "output_type": "stream",
     "text": [
      "   A       B  C\n",
      "0  1   6.750  3\n",
      "1  4  16.875  6\n"
     ]
    }
   ],
   "source": [
    "df3.loc[0:1, \"B\"] = df3.loc[0:1, \"B\"] * (1 + 0.5) \n",
    "print(df3)"
   ]
  },
  {
   "cell_type": "code",
   "execution_count": 64,
   "metadata": {},
   "outputs": [
    {
     "name": "stdout",
     "output_type": "stream",
     "text": [
      "67.62670239634127\n"
     ]
    }
   ],
   "source": [
    "import numpy as np\n",
    "rng = np.random.default_rng()\n",
    "min_num = 0.4 \n",
    "max_num = 0.7\n",
    "print(100 * (rng.random() * (max_num - min_num) + min_num))"
   ]
  },
  {
   "cell_type": "code",
   "execution_count": 66,
   "metadata": {},
   "outputs": [
    {
     "name": "stdout",
     "output_type": "stream",
     "text": [
      "9\n"
     ]
    }
   ],
   "source": [
    "print(round(8.8))"
   ]
  },
  {
   "cell_type": "code",
   "execution_count": 1,
   "metadata": {},
   "outputs": [
    {
     "name": "stdout",
     "output_type": "stream",
     "text": [
      "   Name  Age\n",
      "0   tom   10\n",
      "1  nick   15\n",
      "2  juli   14\n",
      "   Name  Age\n",
      "0   joe   10\n",
      "1  nick   15\n",
      "2  juli   14\n"
     ]
    }
   ],
   "source": [
    "import pandas as pd\n",
    "data = [['tom', 10], ['nick', 15], ['juli', 14]]\n",
    "df = pd.DataFrame(data, columns=['Name', 'Age'])\n",
    "print(df)\n",
    "df.at[0, 'Name'] = 'joe'\n",
    "print(df)"
   ]
  },
  {
   "cell_type": "code",
   "execution_count": 4,
   "metadata": {},
   "outputs": [
    {
     "name": "stdout",
     "output_type": "stream",
     "text": [
      "3\n"
     ]
    }
   ],
   "source": [
    "def my_func(a, b):\n",
    "    return a + b\n",
    "\n",
    "l = (1, 2)\n",
    "print(my_func(*l))"
   ]
  },
  {
   "cell_type": "code",
   "execution_count": 1,
   "metadata": {},
   "outputs": [
    {
     "name": "stdout",
     "output_type": "stream",
     "text": [
      "[(0, 99), (100, 199), (200, 299), (300, 399), (400, 499), (500, 599), (600, 699), (700, 799)]\n",
      "799\n",
      "3\n"
     ]
    }
   ],
   "source": [
    "num_regions_per_core = 100\n",
    "num_cores = 8\n",
    "region_ranges = [(i * num_regions_per_core, (i + 1) * num_regions_per_core - 1) for i in range(num_cores)]\n",
    "print(region_ranges)\n",
    "print(region_ranges[-1][1])\n",
    "print(len([1, 2, 3]))"
   ]
  },
  {
   "cell_type": "code",
   "execution_count": 14,
   "metadata": {},
   "outputs": [
    {
     "data": {
      "text/html": [
       "<div>\n",
       "<style scoped>\n",
       "    .dataframe tbody tr th:only-of-type {\n",
       "        vertical-align: middle;\n",
       "    }\n",
       "\n",
       "    .dataframe tbody tr th {\n",
       "        vertical-align: top;\n",
       "    }\n",
       "\n",
       "    .dataframe thead th {\n",
       "        text-align: right;\n",
       "    }\n",
       "</style>\n",
       "<table border=\"1\" class=\"dataframe\">\n",
       "  <thead>\n",
       "    <tr style=\"text-align: right;\">\n",
       "      <th></th>\n",
       "      <th>A</th>\n",
       "      <th>B</th>\n",
       "    </tr>\n",
       "  </thead>\n",
       "  <tbody>\n",
       "    <tr>\n",
       "      <th>0</th>\n",
       "      <td>100</td>\n",
       "      <td>4</td>\n",
       "    </tr>\n",
       "    <tr>\n",
       "      <th>1</th>\n",
       "      <td>2</td>\n",
       "      <td>5</td>\n",
       "    </tr>\n",
       "    <tr>\n",
       "      <th>2</th>\n",
       "      <td>3</td>\n",
       "      <td>6</td>\n",
       "    </tr>\n",
       "  </tbody>\n",
       "</table>\n",
       "</div>"
      ],
      "text/plain": [
       "     A  B\n",
       "0  100  4\n",
       "1    2  5\n",
       "2    3  6"
      ]
     },
     "execution_count": 14,
     "metadata": {},
     "output_type": "execute_result"
    }
   ],
   "source": [
    "import pandas as pd\n",
    "df = pd.DataFrame({'A': [1, 2, 3], 'B': [4, 5, 6]})\n",
    "s = df.loc[0:1]\n",
    "s.at[0, 'A'] = 100\n",
    "df"
   ]
  },
  {
   "cell_type": "code",
   "execution_count": 1,
   "metadata": {},
   "outputs": [
    {
     "name": "stdout",
     "output_type": "stream",
     "text": [
      "   A   B\n",
      "3  4  14\n",
      "4  5  15\n",
      "5  6  16\n",
      "6  7  17\n",
      "7  8  18\n",
      "8  9  19\n",
      "6\n"
     ]
    }
   ],
   "source": [
    "import pandas as pd \n",
    "df = pd.DataFrame({\"A\": [1, 2, 3, 4, 5, 6, 7, 8, 9, 10], \"B\": [11, 12, 13, 14, 15, 16, 17, 18, 19, 20]})\n",
    "\n",
    "def my_func(asdf):\n",
    "    print(asdf)\n",
    "    print(asdf.at[5, \"A\"])\n",
    "\n",
    "my_func(df.loc[3:8])"
   ]
  },
  {
   "cell_type": "code",
   "execution_count": 2,
   "metadata": {},
   "outputs": [
    {
     "name": "stdout",
     "output_type": "stream",
     "text": [
      "-0.04400000000000004\n"
     ]
    }
   ],
   "source": [
    "def policy_value(T, R, gamma, V_k):\n",
    "    return T * (R + gamma * V_k)\n",
    "v_kp1 = policy_value(0.8, 0, 0.5, -0.840) + policy_value(0.2, 2, 0.5, -1.08)\n",
    "print(v_kp1)"
   ]
  }
 ],
 "metadata": {
  "kernelspec": {
   "display_name": "base",
   "language": "python",
   "name": "python3"
  },
  "language_info": {
   "codemirror_mode": {
    "name": "ipython",
    "version": 3
   },
   "file_extension": ".py",
   "mimetype": "text/x-python",
   "name": "python",
   "nbconvert_exporter": "python",
   "pygments_lexer": "ipython3",
   "version": "3.12.4"
  }
 },
 "nbformat": 4,
 "nbformat_minor": 2
}
